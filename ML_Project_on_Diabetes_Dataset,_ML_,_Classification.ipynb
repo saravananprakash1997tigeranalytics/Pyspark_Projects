{
  "nbformat": 4,
  "nbformat_minor": 0,
  "metadata": {
    "colab": {
      "name": "ML Project on Diabetes Dataset, ML , Classification.ipynb",
      "provenance": []
    },
    "kernelspec": {
      "name": "python3",
      "display_name": "Python 3"
    },
    "language_info": {
      "name": "python"
    }
  },
  "cells": [
    {
      "cell_type": "markdown",
      "source": [
        "Pyspark Project on ML Classification "
      ],
      "metadata": {
        "id": "68PhezQCmCI8"
      }
    },
    {
      "cell_type": "code",
      "source": [
        "pip install pyspark"
      ],
      "metadata": {
        "colab": {
          "base_uri": "https://localhost:8080/"
        },
        "id": "JxQFUMM5ll3A",
        "outputId": "ba140851-07b0-433e-eda7-c4ac5865f34d"
      },
      "execution_count": 2,
      "outputs": [
        {
          "output_type": "stream",
          "name": "stdout",
          "text": [
            "Collecting pyspark\n",
            "  Downloading pyspark-3.2.1.tar.gz (281.4 MB)\n",
            "\u001b[K     |████████████████████████████████| 281.4 MB 34 kB/s \n",
            "\u001b[?25hCollecting py4j==0.10.9.3\n",
            "  Downloading py4j-0.10.9.3-py2.py3-none-any.whl (198 kB)\n",
            "\u001b[K     |████████████████████████████████| 198 kB 63.8 MB/s \n",
            "\u001b[?25hBuilding wheels for collected packages: pyspark\n",
            "  Building wheel for pyspark (setup.py) ... \u001b[?25l\u001b[?25hdone\n",
            "  Created wheel for pyspark: filename=pyspark-3.2.1-py2.py3-none-any.whl size=281853642 sha256=93b3bebe53d2f3c9897253b99d7fbb179c346335d93a9cc8c6f11ee24b545f13\n",
            "  Stored in directory: /root/.cache/pip/wheels/9f/f5/07/7cd8017084dce4e93e84e92efd1e1d5334db05f2e83bcef74f\n",
            "Successfully built pyspark\n",
            "Installing collected packages: py4j, pyspark\n",
            "Successfully installed py4j-0.10.9.3 pyspark-3.2.1\n"
          ]
        }
      ]
    },
    {
      "cell_type": "markdown",
      "source": [
        "Importing thr Required Modules"
      ],
      "metadata": {
        "id": "Q7fIKos0nhjZ"
      }
    },
    {
      "cell_type": "code",
      "source": [
        "from pyspark.sql import SparkSession\n",
        "\n",
        "from pyspark.ml.feature import VectorAssembler\n",
        "from pyspark.ml.feature import StandardScaler\n",
        "\n",
        "from pyspark.ml.classification import LogisticRegression\n",
        "from pyspark.ml.classification import NaiveBayes\n",
        "from pyspark.ml.classification import GBTClassifier\n",
        "from pyspark.ml.classification import RandomForestClassifier\n",
        "\n",
        "from pyspark.mllib.evaluation import BinaryClassificationMetrics\n",
        "from pyspark.ml.evaluation import MulticlassClassificationEvaluator"
      ],
      "metadata": {
        "id": "Ta1WWzTym9wS"
      },
      "execution_count": 33,
      "outputs": []
    },
    {
      "cell_type": "markdown",
      "source": [
        "Creating the Spark Session for the SQL DataFrame"
      ],
      "metadata": {
        "id": "WcgyehuymiyD"
      }
    },
    {
      "cell_type": "code",
      "source": [
        "spark = SparkSession.builder.appName(\"Diabities Classification\").master(\"local\").getOrCreate()"
      ],
      "metadata": {
        "id": "eDpXTL6Imlvz"
      },
      "execution_count": 34,
      "outputs": []
    },
    {
      "cell_type": "markdown",
      "source": [
        "Importing the Diabetes Dataset"
      ],
      "metadata": {
        "id": "Ss8Bzvc3n9MD"
      }
    },
    {
      "cell_type": "code",
      "source": [
        "df = spark.read.csv(\"diabetes.csv\", header = True, inferSchema=True)"
      ],
      "metadata": {
        "id": "JRxRATU3m5IN"
      },
      "execution_count": 35,
      "outputs": []
    },
    {
      "cell_type": "code",
      "source": [
        "df.show()"
      ],
      "metadata": {
        "colab": {
          "base_uri": "https://localhost:8080/"
        },
        "id": "3ADfOOnboZJG",
        "outputId": "9f20fa6c-1213-4825-e8bc-4e6698c1929e"
      },
      "execution_count": 36,
      "outputs": [
        {
          "output_type": "stream",
          "name": "stdout",
          "text": [
            "+-----------+-------+-------------+-------------+-------+----+------------------------+---+-------+\n",
            "|Pregnancies|Glucose|BloodPressure|SkinThickness|Insulin| BMI|DiabetesPedigreeFunction|Age|Outcome|\n",
            "+-----------+-------+-------------+-------------+-------+----+------------------------+---+-------+\n",
            "|          6|    148|           72|           35|      0|33.6|                   0.627| 50|      1|\n",
            "|          1|     85|           66|           29|      0|26.6|                   0.351| 31|      0|\n",
            "|          8|    183|           64|            0|      0|23.3|                   0.672| 32|      1|\n",
            "|          1|     89|           66|           23|     94|28.1|                   0.167| 21|      0|\n",
            "|          0|    137|           40|           35|    168|43.1|                   2.288| 33|      1|\n",
            "|          5|    116|           74|            0|      0|25.6|                   0.201| 30|      0|\n",
            "|          3|     78|           50|           32|     88|31.0|                   0.248| 26|      1|\n",
            "|         10|    115|            0|            0|      0|35.3|                   0.134| 29|      0|\n",
            "|          2|    197|           70|           45|    543|30.5|                   0.158| 53|      1|\n",
            "|          8|    125|           96|            0|      0| 0.0|                   0.232| 54|      1|\n",
            "|          4|    110|           92|            0|      0|37.6|                   0.191| 30|      0|\n",
            "|         10|    168|           74|            0|      0|38.0|                   0.537| 34|      1|\n",
            "|         10|    139|           80|            0|      0|27.1|                   1.441| 57|      0|\n",
            "|          1|    189|           60|           23|    846|30.1|                   0.398| 59|      1|\n",
            "|          5|    166|           72|           19|    175|25.8|                   0.587| 51|      1|\n",
            "|          7|    100|            0|            0|      0|30.0|                   0.484| 32|      1|\n",
            "|          0|    118|           84|           47|    230|45.8|                   0.551| 31|      1|\n",
            "|          7|    107|           74|            0|      0|29.6|                   0.254| 31|      1|\n",
            "|          1|    103|           30|           38|     83|43.3|                   0.183| 33|      0|\n",
            "|          1|    115|           70|           30|     96|34.6|                   0.529| 32|      1|\n",
            "+-----------+-------+-------------+-------------+-------+----+------------------------+---+-------+\n",
            "only showing top 20 rows\n",
            "\n"
          ]
        }
      ]
    },
    {
      "cell_type": "code",
      "source": [
        "df.printSchema()"
      ],
      "metadata": {
        "colab": {
          "base_uri": "https://localhost:8080/"
        },
        "id": "ldVkFR7Gov_1",
        "outputId": "ffff1144-2d05-4cf5-9f71-59bbbcd744a1"
      },
      "execution_count": 37,
      "outputs": [
        {
          "output_type": "stream",
          "name": "stdout",
          "text": [
            "root\n",
            " |-- Pregnancies: integer (nullable = true)\n",
            " |-- Glucose: integer (nullable = true)\n",
            " |-- BloodPressure: integer (nullable = true)\n",
            " |-- SkinThickness: integer (nullable = true)\n",
            " |-- Insulin: integer (nullable = true)\n",
            " |-- BMI: double (nullable = true)\n",
            " |-- DiabetesPedigreeFunction: double (nullable = true)\n",
            " |-- Age: integer (nullable = true)\n",
            " |-- Outcome: integer (nullable = true)\n",
            "\n"
          ]
        }
      ]
    },
    {
      "cell_type": "code",
      "source": [
        "from pyspark.sql.functions import col\n",
        "new_data = df.select(*(col(c).cast(\"float\").alias(c) for c in df.columns))"
      ],
      "metadata": {
        "id": "G1aTgonZvMUl"
      },
      "execution_count": 38,
      "outputs": []
    },
    {
      "cell_type": "markdown",
      "source": [
        "checking for null or nan type values in our columns\n",
        "\n",
        "\n",
        "---\n",
        "\n"
      ],
      "metadata": {
        "id": "SWmSlupnqVYf"
      }
    },
    {
      "cell_type": "code",
      "source": [
        "from pyspark.sql.functions import col, count, isnan, when\n",
        "df.select([count(when(col(c).isNull(), c)).alias(c) for c in df.columns]).show()"
      ],
      "metadata": {
        "colab": {
          "base_uri": "https://localhost:8080/"
        },
        "id": "ZdHhJDncozTC",
        "outputId": "5a2c0de0-455b-4aaa-b447-5604a2e7307a"
      },
      "execution_count": 39,
      "outputs": [
        {
          "output_type": "stream",
          "name": "stdout",
          "text": [
            "+-----------+-------+-------------+-------------+-------+---+------------------------+---+-------+\n",
            "|Pregnancies|Glucose|BloodPressure|SkinThickness|Insulin|BMI|DiabetesPedigreeFunction|Age|Outcome|\n",
            "+-----------+-------+-------------+-------------+-------+---+------------------------+---+-------+\n",
            "|          0|      0|            0|            0|      0|  0|                       0|  0|      0|\n",
            "+-----------+-------+-------------+-------------+-------+---+------------------------+---+-------+\n",
            "\n"
          ]
        }
      ]
    },
    {
      "cell_type": "markdown",
      "source": [
        "Applying the Vector Assembler method on our Dataset"
      ],
      "metadata": {
        "id": "UR6A1faYqm1w"
      }
    },
    {
      "cell_type": "code",
      "source": [
        "cols=df.columns\n",
        "cols.remove(\"Outcome\")\n",
        "assembler = VectorAssembler(inputCols=cols,outputCol=\"features\")\n",
        "data=assembler.transform(df)\n",
        "data.select(\"features\",'Outcome').show(truncate=False)"
      ],
      "metadata": {
        "colab": {
          "base_uri": "https://localhost:8080/"
        },
        "id": "dN2r2XUcpPRO",
        "outputId": "f228f42a-28a1-4353-d8d1-714be5229d0c"
      },
      "execution_count": 40,
      "outputs": [
        {
          "output_type": "stream",
          "name": "stdout",
          "text": [
            "+-------------------------------------------+-------+\n",
            "|features                                   |Outcome|\n",
            "+-------------------------------------------+-------+\n",
            "|[6.0,148.0,72.0,35.0,0.0,33.6,0.627,50.0]  |1      |\n",
            "|[1.0,85.0,66.0,29.0,0.0,26.6,0.351,31.0]   |0      |\n",
            "|[8.0,183.0,64.0,0.0,0.0,23.3,0.672,32.0]   |1      |\n",
            "|[1.0,89.0,66.0,23.0,94.0,28.1,0.167,21.0]  |0      |\n",
            "|[0.0,137.0,40.0,35.0,168.0,43.1,2.288,33.0]|1      |\n",
            "|[5.0,116.0,74.0,0.0,0.0,25.6,0.201,30.0]   |0      |\n",
            "|[3.0,78.0,50.0,32.0,88.0,31.0,0.248,26.0]  |1      |\n",
            "|[10.0,115.0,0.0,0.0,0.0,35.3,0.134,29.0]   |0      |\n",
            "|[2.0,197.0,70.0,45.0,543.0,30.5,0.158,53.0]|1      |\n",
            "|[8.0,125.0,96.0,0.0,0.0,0.0,0.232,54.0]    |1      |\n",
            "|[4.0,110.0,92.0,0.0,0.0,37.6,0.191,30.0]   |0      |\n",
            "|[10.0,168.0,74.0,0.0,0.0,38.0,0.537,34.0]  |1      |\n",
            "|[10.0,139.0,80.0,0.0,0.0,27.1,1.441,57.0]  |0      |\n",
            "|[1.0,189.0,60.0,23.0,846.0,30.1,0.398,59.0]|1      |\n",
            "|[5.0,166.0,72.0,19.0,175.0,25.8,0.587,51.0]|1      |\n",
            "|[7.0,100.0,0.0,0.0,0.0,30.0,0.484,32.0]    |1      |\n",
            "|[0.0,118.0,84.0,47.0,230.0,45.8,0.551,31.0]|1      |\n",
            "|[7.0,107.0,74.0,0.0,0.0,29.6,0.254,31.0]   |1      |\n",
            "|[1.0,103.0,30.0,38.0,83.0,43.3,0.183,33.0] |0      |\n",
            "|[1.0,115.0,70.0,30.0,96.0,34.6,0.529,32.0] |1      |\n",
            "+-------------------------------------------+-------+\n",
            "only showing top 20 rows\n",
            "\n"
          ]
        }
      ]
    },
    {
      "cell_type": "markdown",
      "source": [
        "Appling the StandarScalar Method on our Dataset (This method will scale our values  ranging between -3 to +3 range, it is a Statistics Concept)"
      ],
      "metadata": {
        "id": "uecnk3uzraxZ"
      }
    },
    {
      "cell_type": "code",
      "source": [
        "standardscaler=StandardScaler().setInputCol(\"features\").setOutputCol(\"Scaled_features\")\n",
        "data=standardscaler.fit(data).transform(data)"
      ],
      "metadata": {
        "id": "ZLau-zZ-qtsH"
      },
      "execution_count": 41,
      "outputs": []
    },
    {
      "cell_type": "code",
      "source": [
        "data.select(\"features\",'Outcome','Scaled_features').show(truncate=False)"
      ],
      "metadata": {
        "colab": {
          "base_uri": "https://localhost:8080/"
        },
        "id": "cZ48Yyw4r6bK",
        "outputId": "f8ab11b8-47d6-4c5e-fc48-8c5077f7b39a"
      },
      "execution_count": 42,
      "outputs": [
        {
          "output_type": "stream",
          "name": "stdout",
          "text": [
            "+-------------------------------------------+-------+--------------------------------------------------------------------------------------------------------------------------------------------------------+\n",
            "|features                                   |Outcome|Scaled_features                                                                                                                                         |\n",
            "+-------------------------------------------+-------+--------------------------------------------------------------------------------------------------------------------------------------------------------+\n",
            "|[6.0,148.0,72.0,35.0,0.0,33.6,0.627,50.0]  |1      |[1.7806383732194306,4.628960915766174,3.7198138711154307,2.1940523222807116,0.0,4.261709381170972,1.8923811872495484,4.251616970894646]                 |\n",
            "|[1.0,85.0,66.0,29.0,0.0,26.6,0.351,31.0]   |0      |[0.29677306220323846,2.658524850271114,3.4098293818558116,1.8179290670325896,0.0,3.3738532600936866,1.0593712866420917,2.6360025219546803]              |\n",
            "|[8.0,183.0,64.0,0.0,0.0,23.3,0.672,32.0]   |1      |[2.3741844976259077,5.723647618818986,3.306501218769272,0.0,0.0,2.9552925173001086,2.0281980188703295,2.721034861372573]                                |\n",
            "|[1.0,89.0,66.0,23.0,94.0,28.1,0.167,21.0]  |0      |[0.29677306220323846,2.783631902048578,3.4098293818558116,1.4418058117844677,0.8156606685129459,3.5641081431816763,0.5040313529037872,1.785679127775751]|\n",
            "|[0.0,137.0,40.0,35.0,168.0,43.1,2.288,33.0]|1      |[0.0,4.284916523378148,2.0665632617307947,2.1940523222807116,1.4577765139380312,5.466656974061574,6.905531349963264,2.806067200790466]                  |\n",
            "|[5.0,116.0,74.0,0.0,0.0,25.6,0.201,30.0]   |0      |[1.4838653110161923,3.628104501546461,3.823142034201971,0.0,0.0,3.24701667136836,0.6066485145728218,2.5509701825367874]                                 |\n",
            "|[3.0,78.0,50.0,32.0,88.0,31.0,0.248,26.0]  |1      |[0.8903191866097153,2.4395875096605515,2.5832040771634937,2.0059906946566506,0.7635972215865877,3.931934250485123,0.748501649821193,2.210840824865216]  |\n",
            "|[10.0,115.0,0.0,0.0,0.0,35.3,0.134,29.0]   |0      |[2.9677306220323847,3.596827738602095,0.0,0.0,0.0,4.477331582004027,0.40443234304854786,2.4659378431188945]                                             |\n",
            "|[2.0,197.0,70.0,45.0,543.0,30.5,0.158,53.0]|1      |[0.5935461244064769,6.161522300040111,3.616485708028891,2.8209244143609147,4.711741946835422,3.86851595612246,0.47686798657963103,4.5067139891483246]   |\n",
            "|[8.0,125.0,96.0,0.0,0.0,0.0,0.232,54.0]    |1      |[2.3741844976259077,3.9095953680457556,4.959751828153908,0.0,0.0,0.0,0.7002112208004709,4.5917463285662174]                                             |\n",
            "|[4.0,110.0,92.0,0.0,0.0,37.6,0.191,30.0]   |0      |[1.1870922488129538,3.440443923880265,4.7530955019808285,0.0,0.0,4.7690557360722785,0.5764669964348704,2.5509701825367874]                              |\n",
            "|[10.0,168.0,74.0,0.0,0.0,38.0,0.537,34.0]  |1      |[2.9677306220323847,5.254496174653495,3.823142034201971,0.0,0.0,4.819790371562409,1.6207475240079865,2.891099540208359]                                 |\n",
            "|[10.0,139.0,80.0,0.0,0.0,27.1,1.441,57.0]  |0      |[2.9677306220323847,4.34747004926688,4.1331265234615895,0.0,0.0,3.4372715544563497,4.349156763678787,4.846843346819896]                                 |\n",
            "|[1.0,189.0,60.0,23.0,846.0,30.1,0.398,59.0]|1      |[0.29677306220323846,5.911308196485182,3.0998448925961926,1.4418058117844677,7.340946016616514,3.8177813206323292,1.201224421890463,5.016908025655682]  |\n",
            "|[5.0,166.0,72.0,19.0,175.0,25.8,0.587,51.0]|1      |[1.4838653110161923,5.191942648764763,3.7198138711154307,1.1910569749523863,1.5185172020187825,3.272383989113425,1.771655114697743,4.336649310312539]   |\n",
            "|[7.0,100.0,0.0,0.0,0.0,30.0,0.484,32.0]    |1      |[2.077411435422669,3.127676294436604,0.0,0.0,0.0,3.8050976617597962,1.4607854778768443,2.721034861372573]                                               |\n",
            "|[0.0,118.0,84.0,47.0,230.0,45.8,0.551,31.0]|1      |[0.0,3.6906580274351932,4.33978284963467,2.9462988327769555,1.9957654655103998,5.809115763619956,1.6630016494011184,2.6360025219546803]                 |\n",
            "|[7.0,107.0,74.0,0.0,0.0,29.6,0.254,31.0]   |1      |[2.077411435422669,3.3466136350471665,3.823142034201971,0.0,0.0,3.754363026269666,0.7666105607039638,2.6360025219546803]                                |\n",
            "|[1.0,103.0,30.0,38.0,83.0,43.3,0.183,33.0] |0      |[0.29677306220323846,3.2215065832697025,1.5499224462980963,2.3821139499047725,0.7202110158146225,5.492024291806639,0.5523217819245093,2.806067200790466]|\n",
            "|[1.0,115.0,70.0,30.0,96.0,34.6,0.529,32.0] |1      |[0.29677306220323846,3.596827738602095,3.616485708028891,1.88061627624061,0.833015150821732,4.388545969896299,1.5966023094976254,2.721034861372573]     |\n",
            "+-------------------------------------------+-------+--------------------------------------------------------------------------------------------------------------------------------------------------------+\n",
            "only showing top 20 rows\n",
            "\n"
          ]
        }
      ]
    },
    {
      "cell_type": "code",
      "source": [
        "assembled_data = data.select(\"Scaled_features\",\"Outcome\")\n",
        "assembled_data.show()"
      ],
      "metadata": {
        "colab": {
          "base_uri": "https://localhost:8080/"
        },
        "id": "FbOlA6yCr9AE",
        "outputId": "cf88a303-2c0f-4089-9fc9-f5b3211c78a2"
      },
      "execution_count": 43,
      "outputs": [
        {
          "output_type": "stream",
          "name": "stdout",
          "text": [
            "+--------------------+-------+\n",
            "|     Scaled_features|Outcome|\n",
            "+--------------------+-------+\n",
            "|[1.78063837321943...|      1|\n",
            "|[0.29677306220323...|      0|\n",
            "|[2.37418449762590...|      1|\n",
            "|[0.29677306220323...|      0|\n",
            "|[0.0,4.2849165233...|      1|\n",
            "|[1.48386531101619...|      0|\n",
            "|[0.89031918660971...|      1|\n",
            "|[2.96773062203238...|      0|\n",
            "|[0.59354612440647...|      1|\n",
            "|[2.37418449762590...|      1|\n",
            "|[1.18709224881295...|      0|\n",
            "|[2.96773062203238...|      1|\n",
            "|[2.96773062203238...|      0|\n",
            "|[0.29677306220323...|      1|\n",
            "|[1.48386531101619...|      1|\n",
            "|[2.07741143542266...|      1|\n",
            "|[0.0,3.6906580274...|      1|\n",
            "|[2.07741143542266...|      1|\n",
            "|[0.29677306220323...|      0|\n",
            "|[0.29677306220323...|      1|\n",
            "+--------------------+-------+\n",
            "only showing top 20 rows\n",
            "\n"
          ]
        }
      ]
    },
    {
      "cell_type": "markdown",
      "source": [
        "Splitting the Dataset into specified ratio for train and test"
      ],
      "metadata": {
        "id": "Tcc5iwTnsEYS"
      }
    },
    {
      "cell_type": "code",
      "source": [
        "train, test = assembled_data.randomSplit([0.7, 0.3])"
      ],
      "metadata": {
        "id": "PNF4AG3xsA35"
      },
      "execution_count": 44,
      "outputs": []
    },
    {
      "cell_type": "code",
      "source": [
        "train.show()"
      ],
      "metadata": {
        "colab": {
          "base_uri": "https://localhost:8080/"
        },
        "id": "ClEvJsxBsJ9B",
        "outputId": "98e3fbae-d11e-4ac1-b4d1-c9134ba87958"
      },
      "execution_count": 45,
      "outputs": [
        {
          "output_type": "stream",
          "name": "stdout",
          "text": [
            "+--------------------+-------+\n",
            "|     Scaled_features|Outcome|\n",
            "+--------------------+-------+\n",
            "|(8,[0,1,6,7],[0.5...|      0|\n",
            "|(8,[0,1,6,7],[0.8...|      0|\n",
            "|(8,[0,1,6,7],[1.7...|      0|\n",
            "|(8,[0,1,6,7],[2.0...|      0|\n",
            "|(8,[1,5,6,7],[3.0...|      0|\n",
            "|(8,[1,5,6,7],[3.6...|      0|\n",
            "|(8,[1,5,6,7],[3.7...|      1|\n",
            "|(8,[1,5,6,7],[4.3...|      1|\n",
            "|(8,[1,5,6,7],[4.4...|      1|\n",
            "|(8,[1,6,7],[2.940...|      0|\n",
            "|[0.0,1.7827754878...|      0|\n",
            "|[0.0,2.0955431172...|      0|\n",
            "|[0.0,2.3144804578...|      0|\n",
            "|[0.0,2.6272480873...|      0|\n",
            "|[0.0,2.6272480873...|      0|\n",
            "|[0.0,2.6898016132...|      0|\n",
            "|[0.0,2.8461854279...|      0|\n",
            "|[0.0,2.8461854279...|      0|\n",
            "|[0.0,2.9087389538...|      0|\n",
            "|[0.0,2.9087389538...|      0|\n",
            "+--------------------+-------+\n",
            "only showing top 20 rows\n",
            "\n"
          ]
        }
      ]
    },
    {
      "cell_type": "code",
      "source": [
        "train.count()"
      ],
      "metadata": {
        "colab": {
          "base_uri": "https://localhost:8080/"
        },
        "id": "qxkSyQxfsNoG",
        "outputId": "e8a06c2a-9a6d-4b5c-ab4d-b6d90323a683"
      },
      "execution_count": 46,
      "outputs": [
        {
          "output_type": "execute_result",
          "data": {
            "text/plain": [
              "538"
            ]
          },
          "metadata": {},
          "execution_count": 46
        }
      ]
    },
    {
      "cell_type": "markdown",
      "source": [
        "Training Dataset has 538 Rows"
      ],
      "metadata": {
        "id": "zsXAGTw2sX3_"
      }
    },
    {
      "cell_type": "code",
      "source": [
        "test.show()"
      ],
      "metadata": {
        "colab": {
          "base_uri": "https://localhost:8080/"
        },
        "id": "qhu9y3exsRfg",
        "outputId": "042f45d8-58b9-44bf-b651-0766e61096f8"
      },
      "execution_count": 47,
      "outputs": [
        {
          "output_type": "stream",
          "name": "stdout",
          "text": [
            "+--------------------+-------+\n",
            "|     Scaled_features|Outcome|\n",
            "+--------------------+-------+\n",
            "|(8,[0,1,6,7],[0.5...|      0|\n",
            "|(8,[0,1,6,7],[2.9...|      1|\n",
            "|(8,[1,5,6,7],[2.2...|      0|\n",
            "|(8,[1,5,6,7],[4.0...|      1|\n",
            "|(8,[1,5,6,7],[4.5...|      1|\n",
            "|(8,[1,5,6,7],[5.2...|      1|\n",
            "|[0.0,2.4395875096...|      0|\n",
            "|[0.0,3.0338460056...|      0|\n",
            "|[0.0,3.1902298203...|      0|\n",
            "|[0.0,3.1902298203...|      0|\n",
            "|[0.0,3.2840601091...|      0|\n",
            "|[0.0,3.2840601091...|      0|\n",
            "|[0.0,3.5655509756...|      0|\n",
            "|[0.0,3.6593812644...|      0|\n",
            "|[0.0,3.7219347903...|      0|\n",
            "|[0.0,3.7532115533...|      0|\n",
            "|[0.0,3.9095953680...|      0|\n",
            "|[0.0,3.9408721309...|      0|\n",
            "|[0.0,3.9408721309...|      0|\n",
            "|[0.0,4.0034256568...|      1|\n",
            "+--------------------+-------+\n",
            "only showing top 20 rows\n",
            "\n"
          ]
        }
      ]
    },
    {
      "cell_type": "code",
      "source": [
        "test.count()"
      ],
      "metadata": {
        "colab": {
          "base_uri": "https://localhost:8080/"
        },
        "id": "2fj7pFyxsSlm",
        "outputId": "51ee77cd-8580-4dba-f949-4dc9fe7bf350"
      },
      "execution_count": 48,
      "outputs": [
        {
          "output_type": "execute_result",
          "data": {
            "text/plain": [
              "230"
            ]
          },
          "metadata": {},
          "execution_count": 48
        }
      ]
    },
    {
      "cell_type": "markdown",
      "source": [
        "Test Dataset has 230 rows"
      ],
      "metadata": {
        "id": "HtV3wN92sdfj"
      }
    },
    {
      "cell_type": "markdown",
      "source": [
        "Upon Applying the Logistic Classification Algorithmn"
      ],
      "metadata": {
        "id": "MbzbZAzLskaY"
      }
    },
    {
      "cell_type": "markdown",
      "source": [
        "LOGISTIC REGRESSION"
      ],
      "metadata": {
        "id": "wflp5SPSuNpk"
      }
    },
    {
      "cell_type": "code",
      "source": [
        "log_reg = LogisticRegression(labelCol=\"Outcome\", featuresCol=\"Scaled_features\",maxIter=40)\n",
        "model=log_reg.fit(train)"
      ],
      "metadata": {
        "id": "NFgy1MQusVE0"
      },
      "execution_count": 49,
      "outputs": []
    },
    {
      "cell_type": "code",
      "source": [
        "prediction_test=model.transform(test)"
      ],
      "metadata": {
        "id": "-hx6XEACuQF8"
      },
      "execution_count": 50,
      "outputs": []
    },
    {
      "cell_type": "code",
      "source": [
        "prediction_test.show()"
      ],
      "metadata": {
        "colab": {
          "base_uri": "https://localhost:8080/"
        },
        "id": "1Ky3lIiCuUOZ",
        "outputId": "320bd510-ad1f-4b1a-a876-8521dd8b7b4a"
      },
      "execution_count": 51,
      "outputs": [
        {
          "output_type": "stream",
          "name": "stdout",
          "text": [
            "+--------------------+-------+--------------------+--------------------+----------+\n",
            "|     Scaled_features|Outcome|       rawPrediction|         probability|prediction|\n",
            "+--------------------+-------+--------------------+--------------------+----------+\n",
            "|(8,[0,1,6,7],[0.5...|      0|[4.46915042614835...|[0.98867273170317...|       0.0|\n",
            "|(8,[0,1,6,7],[2.9...|      1|[2.52770923822832...|[0.92606165458711...|       0.0|\n",
            "|(8,[1,5,6,7],[2.2...|      0|[3.26401594081078...|[0.96317350261805...|       0.0|\n",
            "|(8,[1,5,6,7],[4.0...|      1|[-0.2383777043663...|[0.44068617863428...|       1.0|\n",
            "|(8,[1,5,6,7],[4.5...|      1|[-1.1848116846418...|[0.23418814573015...|       1.0|\n",
            "|(8,[1,5,6,7],[5.2...|      1|[-1.1206438359115...|[0.24589187813055...|       1.0|\n",
            "|[0.0,2.4395875096...|      0|[2.44911285582019...|[0.92049655146820...|       0.0|\n",
            "|[0.0,3.0338460056...|      0|[1.48727822238109...|[0.81566939715901...|       0.0|\n",
            "|[0.0,3.1902298203...|      0|[1.12939396512428...|[0.75572704016523...|       0.0|\n",
            "|[0.0,3.1902298203...|      0|[2.05735160147561...|[0.88668835209863...|       0.0|\n",
            "|[0.0,3.2840601091...|      0|[1.35177564009717...|[0.79441977201516...|       0.0|\n",
            "|[0.0,3.2840601091...|      0|[2.05218493398712...|[0.88616820803764...|       0.0|\n",
            "|[0.0,3.5655509756...|      0|[1.10286039917068...|[0.75079567449434...|       0.0|\n",
            "|[0.0,3.6593812644...|      0|[0.79122295541150...|[0.68809386248557...|       0.0|\n",
            "|[0.0,3.7219347903...|      0|[0.95188474382788...|[0.72149405722335...|       0.0|\n",
            "|[0.0,3.7532115533...|      0|[1.65498820394867...|[0.83956408130734...|       0.0|\n",
            "|[0.0,3.9095953680...|      0|[2.07736829673856...|[0.88868395880249...|       0.0|\n",
            "|[0.0,3.9408721309...|      0|[1.47559140649045...|[0.81390576503064...|       0.0|\n",
            "|[0.0,3.9408721309...|      0|[1.70277604366193...|[0.84589695449184...|       0.0|\n",
            "|[0.0,4.0034256568...|      1|[0.46906843196247...|[0.61516324304363...|       0.0|\n",
            "+--------------------+-------+--------------------+--------------------+----------+\n",
            "only showing top 20 rows\n",
            "\n"
          ]
        }
      ]
    },
    {
      "cell_type": "code",
      "source": [
        "prediction_test.select(\"Outcome\",\"prediction\").show(10)"
      ],
      "metadata": {
        "colab": {
          "base_uri": "https://localhost:8080/"
        },
        "id": "Spzk9IqEuXCf",
        "outputId": "a6232c91-774d-488d-e65f-76c8335d1526"
      },
      "execution_count": 52,
      "outputs": [
        {
          "output_type": "stream",
          "name": "stdout",
          "text": [
            "+-------+----------+\n",
            "|Outcome|prediction|\n",
            "+-------+----------+\n",
            "|      0|       0.0|\n",
            "|      1|       0.0|\n",
            "|      0|       0.0|\n",
            "|      1|       1.0|\n",
            "|      1|       1.0|\n",
            "|      1|       1.0|\n",
            "|      0|       0.0|\n",
            "|      0|       0.0|\n",
            "|      0|       0.0|\n",
            "|      0|       0.0|\n",
            "+-------+----------+\n",
            "only showing top 10 rows\n",
            "\n"
          ]
        }
      ]
    },
    {
      "cell_type": "markdown",
      "source": [
        "To compute the Accuracy we can acheive it by Ml module, so we are using MLlib module to get the maccuracy, so we are converting it to RDD Dataframe"
      ],
      "metadata": {
        "id": "fGQD4MLXucz0"
      }
    },
    {
      "cell_type": "code",
      "source": [
        "predictionAndLabels = prediction_test.select(\"Outcome\",\"prediction\").rdd"
      ],
      "metadata": {
        "id": "QWiCQcFwuZuw"
      },
      "execution_count": 65,
      "outputs": []
    },
    {
      "cell_type": "code",
      "source": [
        "predictionAndLabels.collect()"
      ],
      "metadata": {
        "colab": {
          "base_uri": "https://localhost:8080/"
        },
        "id": "dTo-HujRuwBv",
        "outputId": "89c70541-2520-4fa2-b091-65be598cdfcb"
      },
      "execution_count": 66,
      "outputs": [
        {
          "output_type": "execute_result",
          "data": {
            "text/plain": [
              "[Row(Outcome=0, prediction=0.0),\n",
              " Row(Outcome=1, prediction=0.0),\n",
              " Row(Outcome=0, prediction=0.0),\n",
              " Row(Outcome=1, prediction=1.0),\n",
              " Row(Outcome=1, prediction=1.0),\n",
              " Row(Outcome=1, prediction=1.0),\n",
              " Row(Outcome=0, prediction=0.0),\n",
              " Row(Outcome=0, prediction=0.0),\n",
              " Row(Outcome=0, prediction=0.0),\n",
              " Row(Outcome=0, prediction=0.0),\n",
              " Row(Outcome=0, prediction=0.0),\n",
              " Row(Outcome=0, prediction=0.0),\n",
              " Row(Outcome=0, prediction=0.0),\n",
              " Row(Outcome=0, prediction=0.0),\n",
              " Row(Outcome=0, prediction=0.0),\n",
              " Row(Outcome=0, prediction=0.0),\n",
              " Row(Outcome=0, prediction=0.0),\n",
              " Row(Outcome=0, prediction=0.0),\n",
              " Row(Outcome=0, prediction=0.0),\n",
              " Row(Outcome=1, prediction=0.0),\n",
              " Row(Outcome=0, prediction=0.0),\n",
              " Row(Outcome=1, prediction=0.0),\n",
              " Row(Outcome=0, prediction=0.0),\n",
              " Row(Outcome=0, prediction=1.0),\n",
              " Row(Outcome=0, prediction=1.0),\n",
              " Row(Outcome=1, prediction=1.0),\n",
              " Row(Outcome=1, prediction=1.0),\n",
              " Row(Outcome=1, prediction=1.0),\n",
              " Row(Outcome=1, prediction=1.0),\n",
              " Row(Outcome=1, prediction=1.0),\n",
              " Row(Outcome=0, prediction=0.0),\n",
              " Row(Outcome=0, prediction=0.0),\n",
              " Row(Outcome=0, prediction=0.0),\n",
              " Row(Outcome=0, prediction=0.0),\n",
              " Row(Outcome=0, prediction=0.0),\n",
              " Row(Outcome=0, prediction=0.0),\n",
              " Row(Outcome=0, prediction=0.0),\n",
              " Row(Outcome=0, prediction=0.0),\n",
              " Row(Outcome=0, prediction=0.0),\n",
              " Row(Outcome=0, prediction=0.0),\n",
              " Row(Outcome=0, prediction=0.0),\n",
              " Row(Outcome=0, prediction=0.0),\n",
              " Row(Outcome=0, prediction=0.0),\n",
              " Row(Outcome=0, prediction=0.0),\n",
              " Row(Outcome=0, prediction=0.0),\n",
              " Row(Outcome=0, prediction=0.0),\n",
              " Row(Outcome=1, prediction=0.0),\n",
              " Row(Outcome=0, prediction=0.0),\n",
              " Row(Outcome=0, prediction=0.0),\n",
              " Row(Outcome=0, prediction=0.0),\n",
              " Row(Outcome=0, prediction=0.0),\n",
              " Row(Outcome=0, prediction=0.0),\n",
              " Row(Outcome=0, prediction=0.0),\n",
              " Row(Outcome=0, prediction=0.0),\n",
              " Row(Outcome=0, prediction=0.0),\n",
              " Row(Outcome=0, prediction=0.0),\n",
              " Row(Outcome=0, prediction=1.0),\n",
              " Row(Outcome=1, prediction=0.0),\n",
              " Row(Outcome=0, prediction=0.0),\n",
              " Row(Outcome=1, prediction=1.0),\n",
              " Row(Outcome=1, prediction=0.0),\n",
              " Row(Outcome=0, prediction=0.0),\n",
              " Row(Outcome=0, prediction=0.0),\n",
              " Row(Outcome=0, prediction=0.0),\n",
              " Row(Outcome=0, prediction=0.0),\n",
              " Row(Outcome=0, prediction=1.0),\n",
              " Row(Outcome=1, prediction=1.0),\n",
              " Row(Outcome=1, prediction=1.0),\n",
              " Row(Outcome=1, prediction=1.0),\n",
              " Row(Outcome=1, prediction=1.0),\n",
              " Row(Outcome=0, prediction=0.0),\n",
              " Row(Outcome=0, prediction=0.0),\n",
              " Row(Outcome=0, prediction=0.0),\n",
              " Row(Outcome=0, prediction=0.0),\n",
              " Row(Outcome=0, prediction=0.0),\n",
              " Row(Outcome=0, prediction=0.0),\n",
              " Row(Outcome=0, prediction=0.0),\n",
              " Row(Outcome=0, prediction=0.0),\n",
              " Row(Outcome=0, prediction=0.0),\n",
              " Row(Outcome=0, prediction=0.0),\n",
              " Row(Outcome=0, prediction=0.0),\n",
              " Row(Outcome=0, prediction=0.0),\n",
              " Row(Outcome=0, prediction=0.0),\n",
              " Row(Outcome=0, prediction=0.0),\n",
              " Row(Outcome=0, prediction=0.0),\n",
              " Row(Outcome=0, prediction=0.0),\n",
              " Row(Outcome=1, prediction=0.0),\n",
              " Row(Outcome=0, prediction=0.0),\n",
              " Row(Outcome=1, prediction=0.0),\n",
              " Row(Outcome=1, prediction=0.0),\n",
              " Row(Outcome=0, prediction=0.0),\n",
              " Row(Outcome=1, prediction=1.0),\n",
              " Row(Outcome=0, prediction=0.0),\n",
              " Row(Outcome=0, prediction=0.0),\n",
              " Row(Outcome=1, prediction=0.0),\n",
              " Row(Outcome=0, prediction=0.0),\n",
              " Row(Outcome=0, prediction=0.0),\n",
              " Row(Outcome=0, prediction=0.0),\n",
              " Row(Outcome=0, prediction=0.0),\n",
              " Row(Outcome=0, prediction=0.0),\n",
              " Row(Outcome=0, prediction=0.0),\n",
              " Row(Outcome=0, prediction=0.0),\n",
              " Row(Outcome=1, prediction=0.0),\n",
              " Row(Outcome=0, prediction=0.0),\n",
              " Row(Outcome=1, prediction=0.0),\n",
              " Row(Outcome=0, prediction=0.0),\n",
              " Row(Outcome=1, prediction=1.0),\n",
              " Row(Outcome=1, prediction=1.0),\n",
              " Row(Outcome=1, prediction=1.0),\n",
              " Row(Outcome=0, prediction=0.0),\n",
              " Row(Outcome=0, prediction=0.0),\n",
              " Row(Outcome=0, prediction=0.0),\n",
              " Row(Outcome=0, prediction=0.0),\n",
              " Row(Outcome=0, prediction=0.0),\n",
              " Row(Outcome=0, prediction=0.0),\n",
              " Row(Outcome=0, prediction=0.0),\n",
              " Row(Outcome=0, prediction=0.0),\n",
              " Row(Outcome=0, prediction=0.0),\n",
              " Row(Outcome=0, prediction=0.0),\n",
              " Row(Outcome=0, prediction=0.0),\n",
              " Row(Outcome=1, prediction=0.0),\n",
              " Row(Outcome=0, prediction=0.0),\n",
              " Row(Outcome=1, prediction=0.0),\n",
              " Row(Outcome=0, prediction=0.0),\n",
              " Row(Outcome=0, prediction=0.0),\n",
              " Row(Outcome=0, prediction=0.0),\n",
              " Row(Outcome=0, prediction=0.0),\n",
              " Row(Outcome=1, prediction=0.0),\n",
              " Row(Outcome=0, prediction=0.0),\n",
              " Row(Outcome=1, prediction=1.0),\n",
              " Row(Outcome=1, prediction=1.0),\n",
              " Row(Outcome=1, prediction=1.0),\n",
              " Row(Outcome=0, prediction=0.0),\n",
              " Row(Outcome=0, prediction=1.0),\n",
              " Row(Outcome=1, prediction=1.0),\n",
              " Row(Outcome=1, prediction=1.0),\n",
              " Row(Outcome=1, prediction=1.0),\n",
              " Row(Outcome=0, prediction=1.0),\n",
              " Row(Outcome=0, prediction=0.0),\n",
              " Row(Outcome=0, prediction=0.0),\n",
              " Row(Outcome=0, prediction=0.0),\n",
              " Row(Outcome=0, prediction=0.0),\n",
              " Row(Outcome=0, prediction=0.0),\n",
              " Row(Outcome=0, prediction=0.0),\n",
              " Row(Outcome=0, prediction=0.0),\n",
              " Row(Outcome=0, prediction=0.0),\n",
              " Row(Outcome=0, prediction=0.0),\n",
              " Row(Outcome=0, prediction=0.0),\n",
              " Row(Outcome=0, prediction=0.0),\n",
              " Row(Outcome=1, prediction=1.0),\n",
              " Row(Outcome=1, prediction=1.0),\n",
              " Row(Outcome=0, prediction=0.0),\n",
              " Row(Outcome=1, prediction=0.0),\n",
              " Row(Outcome=1, prediction=1.0),\n",
              " Row(Outcome=0, prediction=1.0),\n",
              " Row(Outcome=0, prediction=1.0),\n",
              " Row(Outcome=1, prediction=1.0),\n",
              " Row(Outcome=1, prediction=1.0),\n",
              " Row(Outcome=0, prediction=0.0),\n",
              " Row(Outcome=0, prediction=0.0),\n",
              " Row(Outcome=0, prediction=0.0),\n",
              " Row(Outcome=0, prediction=0.0),\n",
              " Row(Outcome=0, prediction=0.0),\n",
              " Row(Outcome=0, prediction=0.0),\n",
              " Row(Outcome=0, prediction=0.0),\n",
              " Row(Outcome=1, prediction=0.0),\n",
              " Row(Outcome=1, prediction=0.0),\n",
              " Row(Outcome=1, prediction=0.0),\n",
              " Row(Outcome=0, prediction=0.0),\n",
              " Row(Outcome=0, prediction=0.0),\n",
              " Row(Outcome=1, prediction=1.0),\n",
              " Row(Outcome=0, prediction=0.0),\n",
              " Row(Outcome=0, prediction=1.0),\n",
              " Row(Outcome=0, prediction=1.0),\n",
              " Row(Outcome=0, prediction=1.0),\n",
              " Row(Outcome=1, prediction=1.0),\n",
              " Row(Outcome=1, prediction=1.0),\n",
              " Row(Outcome=1, prediction=1.0),\n",
              " Row(Outcome=0, prediction=0.0),\n",
              " Row(Outcome=1, prediction=0.0),\n",
              " Row(Outcome=1, prediction=0.0),\n",
              " Row(Outcome=0, prediction=0.0),\n",
              " Row(Outcome=1, prediction=1.0),\n",
              " Row(Outcome=0, prediction=0.0),\n",
              " Row(Outcome=0, prediction=0.0),\n",
              " Row(Outcome=0, prediction=1.0),\n",
              " Row(Outcome=0, prediction=1.0),\n",
              " Row(Outcome=1, prediction=1.0),\n",
              " Row(Outcome=1, prediction=1.0),\n",
              " Row(Outcome=0, prediction=1.0),\n",
              " Row(Outcome=1, prediction=1.0),\n",
              " Row(Outcome=1, prediction=1.0),\n",
              " Row(Outcome=1, prediction=1.0),\n",
              " Row(Outcome=1, prediction=1.0),\n",
              " Row(Outcome=0, prediction=0.0),\n",
              " Row(Outcome=0, prediction=0.0),\n",
              " Row(Outcome=0, prediction=0.0),\n",
              " Row(Outcome=0, prediction=1.0),\n",
              " Row(Outcome=1, prediction=0.0),\n",
              " Row(Outcome=0, prediction=0.0),\n",
              " Row(Outcome=0, prediction=0.0),\n",
              " Row(Outcome=1, prediction=1.0),\n",
              " Row(Outcome=1, prediction=1.0),\n",
              " Row(Outcome=1, prediction=1.0),\n",
              " Row(Outcome=1, prediction=1.0),\n",
              " Row(Outcome=1, prediction=1.0),\n",
              " Row(Outcome=1, prediction=1.0),\n",
              " Row(Outcome=0, prediction=1.0),\n",
              " Row(Outcome=1, prediction=1.0),\n",
              " Row(Outcome=0, prediction=0.0),\n",
              " Row(Outcome=1, prediction=0.0),\n",
              " Row(Outcome=0, prediction=0.0),\n",
              " Row(Outcome=0, prediction=1.0),\n",
              " Row(Outcome=1, prediction=1.0),\n",
              " Row(Outcome=1, prediction=1.0),\n",
              " Row(Outcome=1, prediction=1.0),\n",
              " Row(Outcome=0, prediction=0.0),\n",
              " Row(Outcome=0, prediction=0.0),\n",
              " Row(Outcome=0, prediction=0.0),\n",
              " Row(Outcome=0, prediction=1.0),\n",
              " Row(Outcome=1, prediction=0.0),\n",
              " Row(Outcome=1, prediction=0.0),\n",
              " Row(Outcome=0, prediction=0.0),\n",
              " Row(Outcome=0, prediction=0.0),\n",
              " Row(Outcome=0, prediction=1.0),\n",
              " Row(Outcome=1, prediction=1.0),\n",
              " Row(Outcome=0, prediction=1.0),\n",
              " Row(Outcome=1, prediction=1.0),\n",
              " Row(Outcome=1, prediction=1.0),\n",
              " Row(Outcome=1, prediction=1.0)]"
            ]
          },
          "metadata": {},
          "execution_count": 66
        }
      ]
    },
    {
      "cell_type": "code",
      "source": [
        "evaluator = MulticlassClassificationEvaluator(labelCol=\"Outcome\", predictionCol=\"prediction\", metricName=\"accuracy\")\n",
        "accuracy_LR = evaluator.evaluate(prediction_test)\n",
        "print (\"Accuracy = \" ,accuracy_LR)"
      ],
      "metadata": {
        "colab": {
          "base_uri": "https://localhost:8080/"
        },
        "id": "YC9yCZ8eu4Q5",
        "outputId": "a4c30190-4407-470e-c557-41916a65a0e4"
      },
      "execution_count": 69,
      "outputs": [
        {
          "output_type": "stream",
          "name": "stdout",
          "text": [
            "Accuracy =  0.8043478260869565\n"
          ]
        }
      ]
    },
    {
      "cell_type": "markdown",
      "source": [
        "The Accuracy of our Logistic Regression Model is around 80%"
      ],
      "metadata": {
        "id": "jMn-fWoFxqY7"
      }
    },
    {
      "cell_type": "markdown",
      "source": [
        "RANDOM FOREST CLASSIFIER"
      ],
      "metadata": {
        "id": "dOdMHl0pyBtT"
      }
    },
    {
      "cell_type": "code",
      "source": [
        "random_forest_classifier = RandomForestClassifier(labelCol=\"Outcome\", featuresCol=\"Scaled_features\", numTrees=40)"
      ],
      "metadata": {
        "id": "D0CzpAurwH2V"
      },
      "execution_count": 70,
      "outputs": []
    },
    {
      "cell_type": "code",
      "source": [
        "model = random_forest_classifier.fit(train)"
      ],
      "metadata": {
        "id": "olxdkpMiyMMD"
      },
      "execution_count": 71,
      "outputs": []
    },
    {
      "cell_type": "code",
      "source": [
        "prediction_test = model.transform(test)"
      ],
      "metadata": {
        "id": "hfb-FbjuyOAp"
      },
      "execution_count": 72,
      "outputs": []
    },
    {
      "cell_type": "code",
      "source": [
        "prediction_test.show()"
      ],
      "metadata": {
        "colab": {
          "base_uri": "https://localhost:8080/"
        },
        "id": "jkStzOGjyQFz",
        "outputId": "f8aa3e4e-8f2b-4933-f85d-72fa10d98e42"
      },
      "execution_count": 73,
      "outputs": [
        {
          "output_type": "stream",
          "name": "stdout",
          "text": [
            "+--------------------+-------+--------------------+--------------------+----------+\n",
            "|     Scaled_features|Outcome|       rawPrediction|         probability|prediction|\n",
            "+--------------------+-------+--------------------+--------------------+----------+\n",
            "|(8,[0,1,6,7],[0.5...|      0|[38.4793988996654...|[0.96198497249163...|       0.0|\n",
            "|(8,[0,1,6,7],[2.9...|      1|[31.1025992160118...|[0.77756498040029...|       0.0|\n",
            "|(8,[1,5,6,7],[2.2...|      0|[38.3980173178952...|[0.95995043294738...|       0.0|\n",
            "|(8,[1,5,6,7],[4.0...|      1|[19.1759591722805...|[0.47939897930701...|       1.0|\n",
            "|(8,[1,5,6,7],[4.5...|      1|[12.5417953109145...|[0.31354488277286...|       1.0|\n",
            "|(8,[1,5,6,7],[5.2...|      1|[11.2578682531015...|[0.28144670632753...|       1.0|\n",
            "|[0.0,2.4395875096...|      0|[35.7813219342886...|[0.89453304835721...|       0.0|\n",
            "|[0.0,3.0338460056...|      0|[31.6414208052347...|[0.79103552013086...|       0.0|\n",
            "|[0.0,3.1902298203...|      0|[30.0463563138277...|[0.75115890784569...|       0.0|\n",
            "|[0.0,3.1902298203...|      0|[32.3983918055942...|[0.80995979513985...|       0.0|\n",
            "|[0.0,3.2840601091...|      0|[30.6632216392222...|[0.76658054098055...|       0.0|\n",
            "|[0.0,3.2840601091...|      0|[25.4220669211224...|[0.63555167302806...|       0.0|\n",
            "|[0.0,3.5655509756...|      0|[29.7879787431827...|[0.74469946857956...|       0.0|\n",
            "|[0.0,3.6593812644...|      0|[31.0804709837219...|[0.77701177459304...|       0.0|\n",
            "|[0.0,3.7219347903...|      0|[31.8964517438803...|[0.79741129359700...|       0.0|\n",
            "|[0.0,3.7532115533...|      0|[32.3096440768928...|[0.80774110192232...|       0.0|\n",
            "|[0.0,3.9095953680...|      0|[35.1968856279671...|[0.87992214069917...|       0.0|\n",
            "|[0.0,3.9408721309...|      0|[30.0641591168275...|[0.75160397792068...|       0.0|\n",
            "|[0.0,3.9408721309...|      0|[33.3603032085359...|[0.83400758021339...|       0.0|\n",
            "|[0.0,4.0034256568...|      1|[26.4582654491971...|[0.66145663622992...|       0.0|\n",
            "+--------------------+-------+--------------------+--------------------+----------+\n",
            "only showing top 20 rows\n",
            "\n"
          ]
        }
      ]
    },
    {
      "cell_type": "code",
      "source": [
        "prediction_test.select(\"Outcome\",\"prediction\").show(10)"
      ],
      "metadata": {
        "colab": {
          "base_uri": "https://localhost:8080/"
        },
        "id": "IjziADQIySPS",
        "outputId": "00932fd1-d2ff-406f-cc7b-c264e00908e0"
      },
      "execution_count": 74,
      "outputs": [
        {
          "output_type": "stream",
          "name": "stdout",
          "text": [
            "+-------+----------+\n",
            "|Outcome|prediction|\n",
            "+-------+----------+\n",
            "|      0|       0.0|\n",
            "|      1|       0.0|\n",
            "|      0|       0.0|\n",
            "|      1|       1.0|\n",
            "|      1|       1.0|\n",
            "|      1|       1.0|\n",
            "|      0|       0.0|\n",
            "|      0|       0.0|\n",
            "|      0|       0.0|\n",
            "|      0|       0.0|\n",
            "+-------+----------+\n",
            "only showing top 10 rows\n",
            "\n"
          ]
        }
      ]
    },
    {
      "cell_type": "markdown",
      "source": [
        "Converting it to RDD"
      ],
      "metadata": {
        "id": "fmvsXbttyZxO"
      }
    },
    {
      "cell_type": "code",
      "source": [
        "predictionAndLabels = prediction_test.select(\"Outcome\",\"prediction\").rdd"
      ],
      "metadata": {
        "id": "98tmKIvPyVTi"
      },
      "execution_count": 75,
      "outputs": []
    },
    {
      "cell_type": "code",
      "source": [
        "# Select (prediction, true label) and compute test error\n",
        "evaluator = MulticlassClassificationEvaluator( labelCol=\"Outcome\", predictionCol=\"prediction\", metricName=\"accuracy\")\n",
        "accuracy_RF= evaluator.evaluate(prediction_test)"
      ],
      "metadata": {
        "id": "x1IkCB92yixi"
      },
      "execution_count": 77,
      "outputs": []
    },
    {
      "cell_type": "code",
      "source": [
        "print(accuracy_RF)"
      ],
      "metadata": {
        "colab": {
          "base_uri": "https://localhost:8080/"
        },
        "id": "YUhk3i0rykgb",
        "outputId": "d27cf6a0-6a06-48d7-a675-41a4ea9e093c"
      },
      "execution_count": 78,
      "outputs": [
        {
          "output_type": "stream",
          "name": "stdout",
          "text": [
            "0.782608695652174\n"
          ]
        }
      ]
    },
    {
      "cell_type": "markdown",
      "source": [
        "The Accuracy of Random Forest Classifier is around 78%"
      ],
      "metadata": {
        "id": "Tt4pmyPIytdu"
      }
    },
    {
      "cell_type": "markdown",
      "source": [
        "COMPARISON"
      ],
      "metadata": {
        "id": "XoRSkKZ6y1pk"
      }
    },
    {
      "cell_type": "code",
      "source": [
        "print(\"Accuracy of LR : \",accuracy_LR)\n",
        "print(\"Accuracy of RF : \",accuracy_RF)\n"
      ],
      "metadata": {
        "colab": {
          "base_uri": "https://localhost:8080/"
        },
        "id": "AuMHtaTyyrVD",
        "outputId": "0003b4ce-00b7-40d2-de51-ad14ccfad55a"
      },
      "execution_count": 79,
      "outputs": [
        {
          "output_type": "stream",
          "name": "stdout",
          "text": [
            "Accuracy of LR :  0.8043478260869565\n",
            "Accuracy of RF :  0.782608695652174\n"
          ]
        }
      ]
    },
    {
      "cell_type": "code",
      "source": [
        ""
      ],
      "metadata": {
        "id": "k1DCXVAny8fv"
      },
      "execution_count": null,
      "outputs": []
    }
  ]
}